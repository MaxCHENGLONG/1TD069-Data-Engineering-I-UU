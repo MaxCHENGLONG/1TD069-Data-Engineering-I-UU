{
 "cells": [
  {
   "cell_type": "code",
   "execution_count": 19,
   "id": "aec43231-942c-4232-87c0-ac517c814f25",
   "metadata": {},
   "outputs": [],
   "source": [
    "#Question A.1\n",
    "from pyspark.sql import SparkSession\n",
    "from operator import add "
   ]
  },
  {
   "cell_type": "code",
   "execution_count": 27,
   "id": "64382180-57bd-47f5-a29a-b6a4648117ce",
   "metadata": {},
   "outputs": [],
   "source": [
    "spark_session = SparkSession\\\n",
    "        .builder\\\n",
    "        .master(\"spark://192.168.2.250:7077\") \\\n",
    "        .appName(\"Chenglong_Li_PartB\")\\\n",
    "        .config(\"spark.dynamicAllocation.enabled\", True)\\\n",
    "        .config(\"spark.dynamicAllocation.shuffleTracking.enabled\",True)\\\n",
    "        .config(\"spark.shuffle.service.enabled\", False)\\\n",
    "        .config(\"spark.dynamicAllocation.executorIdleTimeout\",\"30s\")\\\n",
    "        .config(\"spark.executor.cores\",2)\\\n",
    "        .config(\"spark.driver.port\",9999)\\\n",
    "        .config(\"spark.blockManager.port\",10005)\\\n",
    "        .getOrCreate()"
   ]
  },
  {
   "cell_type": "code",
   "execution_count": 28,
   "id": "804efc8c-a78e-4d4d-ab54-cc0f6d60a550",
   "metadata": {},
   "outputs": [],
   "source": [
    "spark_context = spark_session.sparkContext\n",
    "\n",
    "spark_context.setLogLevel(\"ERROR\")"
   ]
  },
  {
   "cell_type": "code",
   "execution_count": 29,
   "id": "9f26761f-e1f8-4bd9-b65d-863866af78e9",
   "metadata": {},
   "outputs": [
    {
     "data": {
      "text/html": [
       "\n",
       "        <div>\n",
       "            <p><b>SparkContext</b></p>\n",
       "\n",
       "            <p><a href=\"http://host-192-168-2-183-de1:4041\">Spark UI</a></p>\n",
       "\n",
       "            <dl>\n",
       "              <dt>Version</dt>\n",
       "                <dd><code>v3.5.0</code></dd>\n",
       "              <dt>Master</dt>\n",
       "                <dd><code>local[*]</code></dd>\n",
       "              <dt>AppName</dt>\n",
       "                <dd><code>pyspark-shell</code></dd>\n",
       "            </dl>\n",
       "        </div>\n",
       "        "
      ],
      "text/plain": [
       "<SparkContext master=local[*] appName=pyspark-shell>"
      ]
     },
     "execution_count": 29,
     "metadata": {},
     "output_type": "execute_result"
    }
   ],
   "source": [
    "spark_context"
   ]
  },
  {
   "cell_type": "code",
   "execution_count": 31,
   "id": "fdd0a998-38ad-4ae2-8745-55206f457a18",
   "metadata": {},
   "outputs": [
    {
     "name": "stderr",
     "output_type": "stream",
     "text": [
      "[Stage 33:>                                                         (0 + 2) / 2]\r"
     ]
    },
    {
     "name": "stdout",
     "output_type": "stream",
     "text": [
      "The number of lines in English transcripts:  1862234\n"
     ]
    },
    {
     "name": "stderr",
     "output_type": "stream",
     "text": [
      "                                                                                \r"
     ]
    }
   ],
   "source": [
    "#Question A.1.1\n",
    "# A.1.1\n",
    "en_count = spark_context.textFile(\"hdfs://192.168.2.250:9000/europarl/europarl-v7.sv-en.en\").count()\n",
    "print(\"The number of lines in English transcripts: \", en_count)"
   ]
  },
  {
   "cell_type": "code",
   "execution_count": 32,
   "id": "cf16d713-7abc-4ce8-8eaa-c448bf4c390b",
   "metadata": {},
   "outputs": [
    {
     "name": "stderr",
     "output_type": "stream",
     "text": [
      "[Stage 34:===================>                                      (1 + 2) / 3]\r"
     ]
    },
    {
     "name": "stdout",
     "output_type": "stream",
     "text": [
      "The number of lines in Swedish transcripts:  1862234\n"
     ]
    },
    {
     "name": "stderr",
     "output_type": "stream",
     "text": [
      "                                                                                \r"
     ]
    }
   ],
   "source": [
    "#Question A.1.2\n",
    "# Load the transcripts of the other language into an RDD\n",
    "sv_count = spark_context.textFile(\"hdfs://192.168.2.250:9000/europarl/europarl-v7.sv-en.sv\").count()\n",
    "print(\"The number of lines in Swedish transcripts: \", sv_count)"
   ]
  },
  {
   "cell_type": "code",
   "execution_count": 33,
   "id": "bc50ae1b-cdd8-47bf-b367-16bad3a87360",
   "metadata": {},
   "outputs": [
    {
     "name": "stdout",
     "output_type": "stream",
     "text": [
      "The line counts are the same.\n"
     ]
    }
   ],
   "source": [
    "#Quesition A.1.3\n",
    "# Verify the line counts are the same\n",
    "if en_count == sv_count:\n",
    "    print(\"The line counts are the same.\")\n",
    "else:\n",
    "    print(\"The line counts are different.\")"
   ]
  },
  {
   "cell_type": "code",
   "execution_count": 34,
   "id": "a9cd13a0-9d54-49a0-83c4-724ae3c08c01",
   "metadata": {},
   "outputs": [
    {
     "name": "stdout",
     "output_type": "stream",
     "text": [
      "The number of partitions in English transcripts:  2\n",
      "The number of partitions in Swedish transcripts:  3\n"
     ]
    }
   ],
   "source": [
    "#Question A.1.4\n",
    "print(\"The number of partitions in English transcripts: \", spark_context.textFile(\"hdfs://192.168.2.250:9000/europarl/europarl-v7.sv-en.en\").getNumPartitions())\n",
    "print(\"The number of partitions in Swedish transcripts: \", spark_context.textFile(\"hdfs://192.168.2.250:9000/europarl/europarl-v7.sv-en.sv\").getNumPartitions())"
   ]
  },
  {
   "cell_type": "code",
   "execution_count": 9,
   "id": "dc25aa76-72cb-423b-be05-baa611e6d288",
   "metadata": {},
   "outputs": [],
   "source": [
    "#Question A.2"
   ]
  },
  {
   "cell_type": "code",
   "execution_count": 37,
   "id": "b7ec9a51-ea93-424b-84d9-8172213f6430",
   "metadata": {},
   "outputs": [
    {
     "name": "stderr",
     "output_type": "stream",
     "text": [
      "                                                                                \r"
     ]
    },
    {
     "name": "stdout",
     "output_type": "stream",
     "text": [
      "new English: \n",
      " [['resumption', 'of', 'the', 'session'], ['i', 'declare', 'resumed', 'the', 'session', 'of', 'the', 'european', 'parliament', 'adjourned', 'on', 'friday', '17', 'december', '1999,', 'and', 'i', 'would', 'like', 'once', 'again', 'to', 'wish', 'you', 'a', 'happy', 'new', 'year', 'in', 'the', 'hope', 'that', 'you', 'enjoyed', 'a', 'pleasant', 'festive', 'period.'], ['although,', 'as', 'you', 'will', 'have', 'seen,', 'the', 'dreaded', \"'millennium\", \"bug'\", 'failed', 'to', 'materialise,', 'still', 'the', 'people', 'in', 'a', 'number', 'of', 'countries', 'suffered', 'a', 'series', 'of', 'natural', 'disasters', 'that', 'truly', 'were', 'dreadful.'], ['you', 'have', 'requested', 'a', 'debate', 'on', 'this', 'subject', 'in', 'the', 'course', 'of', 'the', 'next', 'few', 'days,', 'during', 'this', 'part-session.'], ['in', 'the', 'meantime,', 'i', 'should', 'like', 'to', 'observe', 'a', \"minute'\", 's', 'silence,', 'as', 'a', 'number', 'of', 'members', 'have', 'requested,', 'on', 'behalf', 'of', 'all', 'the', 'victims', 'concerned,', 'particularly', 'those', 'of', 'the', 'terrible', 'storms,', 'in', 'the', 'various', 'countries', 'of', 'the', 'european', 'union.'], ['please', 'rise,', 'then,', 'for', 'this', \"minute'\", 's', 'silence.'], ['(the', 'house', 'rose', 'and', 'observed', 'a', \"minute'\", 's', 'silence)'], ['madam', 'president,', 'on', 'a', 'point', 'of', 'order.'], ['you', 'will', 'be', 'aware', 'from', 'the', 'press', 'and', 'television', 'that', 'there', 'have', 'been', 'a', 'number', 'of', 'bomb', 'explosions', 'and', 'killings', 'in', 'sri', 'lanka.'], ['one', 'of', 'the', 'people', 'assassinated', 'very', 'recently', 'in', 'sri', 'lanka', 'was', 'mr', 'kumar', 'ponnambalam,', 'who', 'had', 'visited', 'the', 'european', 'parliament', 'just', 'a', 'few', 'months', 'ago.']]\n"
     ]
    },
    {
     "name": "stderr",
     "output_type": "stream",
     "text": [
      "[Stage 36:>                                                         (0 + 1) / 1]\r"
     ]
    },
    {
     "name": "stdout",
     "output_type": "stream",
     "text": [
      "new Swedish: \n",
      " [['återupptagande', 'av', 'sessionen'], ['jag', 'förklarar', 'europaparlamentets', 'session', 'återupptagen', 'efter', 'avbrottet', 'den', '17', 'december.', 'jag', 'vill', 'på', 'nytt', 'önska', 'er', 'ett', 'gott', 'nytt', 'år', 'och', 'jag', 'hoppas', 'att', 'ni', 'haft', 'en', 'trevlig', 'semester.'], ['som', 'ni', 'kunnat', 'konstatera', 'ägde', '\"den', 'stora', 'år', '2000-buggen\"', 'aldrig', 'rum.', 'däremot', 'har', 'invånarna', 'i', 'ett', 'antal', 'av', 'våra', 'medlemsländer', 'drabbats', 'av', 'naturkatastrofer', 'som', 'verkligen', 'varit', 'förskräckliga.'], ['ni', 'har', 'begärt', 'en', 'debatt', 'i', 'ämnet', 'under', 'sammanträdesperiodens', 'kommande', 'dagar.'], ['till', 'dess', 'vill', 'jag', 'att', 'vi,', 'som', 'ett', 'antal', 'kolleger', 'begärt,', 'håller', 'en', 'tyst', 'minut', 'för', 'offren', 'för', 'bl.a.', 'stormarna', 'i', 'de', 'länder', 'i', 'europeiska', 'unionen', 'som', 'drabbats.'], ['jag', 'ber', 'er', 'resa', 'er', 'för', 'en', 'tyst', 'minut.'], ['(parlamentet', 'höll', 'en', 'tyst', 'minut.)'], ['fru', 'talman!', 'det', 'gäller', 'en', 'ordningsfråga.'], ['ni', 'känner', 'till', 'från', 'media', 'att', 'det', 'skett', 'en', 'rad', 'bombexplosioner', 'och', 'mord', 'i', 'sri', 'lanka.'], ['en', 'av', 'de', 'personer', 'som', 'mycket', 'nyligen', 'mördades', 'i', 'sri', 'lanka', 'var', 'kumar', 'ponnambalam,', 'som', 'besökte', 'europaparlamentet', 'för', 'bara', 'några', 'månader', 'sedan.']]\n"
     ]
    },
    {
     "name": "stderr",
     "output_type": "stream",
     "text": [
      "                                                                                \r"
     ]
    }
   ],
   "source": [
    "#Question A.2.1\n",
    "def preprocess_text(line):\n",
    "    \"\"\"\n",
    "    Convert text to lowercase and tokenize it (split on space).\n",
    "    \n",
    "    :param line: Input string to be preprocessed\n",
    "    :return: List of tokens from the input string\n",
    "    \"\"\"\n",
    "    # Convert to lowercase\n",
    "    lowercased = line.lower()\n",
    "    # Tokenize (split on space)\n",
    "    tokens = lowercased.split(\" \")\n",
    "    return tokens\n",
    "\n",
    "new_en = spark_context.textFile(\"hdfs://192.168.2.250:9000/europarl/europarl-v7.sv-en.en\").map(preprocess_text)\n",
    "new_sv = spark_context.textFile(\"hdfs://192.168.2.250:9000/europarl/europarl-v7.sv-en.sv\").map(preprocess_text)"
   ]
  },
  {
   "cell_type": "code",
   "execution_count": 38,
   "id": "a48229e9-2770-4d77-ab31-2cf571922075",
   "metadata": {},
   "outputs": [
    {
     "name": "stdout",
     "output_type": "stream",
     "text": [
      "10 entries from the English preprocessed RDD:\n"
     ]
    },
    {
     "name": "stderr",
     "output_type": "stream",
     "text": [
      "                                                                                \r"
     ]
    },
    {
     "name": "stdout",
     "output_type": "stream",
     "text": [
      "[['resumption', 'of', 'the', 'session'], ['i', 'declare', 'resumed', 'the', 'session', 'of', 'the', 'european', 'parliament', 'adjourned', 'on', 'friday', '17', 'december', '1999,', 'and', 'i', 'would', 'like', 'once', 'again', 'to', 'wish', 'you', 'a', 'happy', 'new', 'year', 'in', 'the', 'hope', 'that', 'you', 'enjoyed', 'a', 'pleasant', 'festive', 'period.'], ['although,', 'as', 'you', 'will', 'have', 'seen,', 'the', 'dreaded', \"'millennium\", \"bug'\", 'failed', 'to', 'materialise,', 'still', 'the', 'people', 'in', 'a', 'number', 'of', 'countries', 'suffered', 'a', 'series', 'of', 'natural', 'disasters', 'that', 'truly', 'were', 'dreadful.'], ['you', 'have', 'requested', 'a', 'debate', 'on', 'this', 'subject', 'in', 'the', 'course', 'of', 'the', 'next', 'few', 'days,', 'during', 'this', 'part-session.'], ['in', 'the', 'meantime,', 'i', 'should', 'like', 'to', 'observe', 'a', \"minute'\", 's', 'silence,', 'as', 'a', 'number', 'of', 'members', 'have', 'requested,', 'on', 'behalf', 'of', 'all', 'the', 'victims', 'concerned,', 'particularly', 'those', 'of', 'the', 'terrible', 'storms,', 'in', 'the', 'various', 'countries', 'of', 'the', 'european', 'union.'], ['please', 'rise,', 'then,', 'for', 'this', \"minute'\", 's', 'silence.'], ['(the', 'house', 'rose', 'and', 'observed', 'a', \"minute'\", 's', 'silence)'], ['madam', 'president,', 'on', 'a', 'point', 'of', 'order.'], ['you', 'will', 'be', 'aware', 'from', 'the', 'press', 'and', 'television', 'that', 'there', 'have', 'been', 'a', 'number', 'of', 'bomb', 'explosions', 'and', 'killings', 'in', 'sri', 'lanka.'], ['one', 'of', 'the', 'people', 'assassinated', 'very', 'recently', 'in', 'sri', 'lanka', 'was', 'mr', 'kumar', 'ponnambalam,', 'who', 'had', 'visited', 'the', 'european', 'parliament', 'just', 'a', 'few', 'months', 'ago.']]\n",
      "10 entries from the other language preprocessed RDD:\n"
     ]
    },
    {
     "name": "stderr",
     "output_type": "stream",
     "text": [
      "[Stage 38:>                                                         (0 + 1) / 1]\r"
     ]
    },
    {
     "name": "stdout",
     "output_type": "stream",
     "text": [
      "[['återupptagande', 'av', 'sessionen'], ['jag', 'förklarar', 'europaparlamentets', 'session', 'återupptagen', 'efter', 'avbrottet', 'den', '17', 'december.', 'jag', 'vill', 'på', 'nytt', 'önska', 'er', 'ett', 'gott', 'nytt', 'år', 'och', 'jag', 'hoppas', 'att', 'ni', 'haft', 'en', 'trevlig', 'semester.'], ['som', 'ni', 'kunnat', 'konstatera', 'ägde', '\"den', 'stora', 'år', '2000-buggen\"', 'aldrig', 'rum.', 'däremot', 'har', 'invånarna', 'i', 'ett', 'antal', 'av', 'våra', 'medlemsländer', 'drabbats', 'av', 'naturkatastrofer', 'som', 'verkligen', 'varit', 'förskräckliga.'], ['ni', 'har', 'begärt', 'en', 'debatt', 'i', 'ämnet', 'under', 'sammanträdesperiodens', 'kommande', 'dagar.'], ['till', 'dess', 'vill', 'jag', 'att', 'vi,', 'som', 'ett', 'antal', 'kolleger', 'begärt,', 'håller', 'en', 'tyst', 'minut', 'för', 'offren', 'för', 'bl.a.', 'stormarna', 'i', 'de', 'länder', 'i', 'europeiska', 'unionen', 'som', 'drabbats.'], ['jag', 'ber', 'er', 'resa', 'er', 'för', 'en', 'tyst', 'minut.'], ['(parlamentet', 'höll', 'en', 'tyst', 'minut.)'], ['fru', 'talman!', 'det', 'gäller', 'en', 'ordningsfråga.'], ['ni', 'känner', 'till', 'från', 'media', 'att', 'det', 'skett', 'en', 'rad', 'bombexplosioner', 'och', 'mord', 'i', 'sri', 'lanka.'], ['en', 'av', 'de', 'personer', 'som', 'mycket', 'nyligen', 'mördades', 'i', 'sri', 'lanka', 'var', 'kumar', 'ponnambalam,', 'som', 'besökte', 'europaparlamentet', 'för', 'bara', 'några', 'månader', 'sedan.']]\n"
     ]
    },
    {
     "name": "stderr",
     "output_type": "stream",
     "text": [
      "                                                                                \r"
     ]
    }
   ],
   "source": [
    "#Question A.2.2\n",
    "# Take 10 entries from the English preprocessed RDD\n",
    "print(\"10 entries from the English preprocessed RDD:\")\n",
    "print(new_en.take(10))\n",
    "\n",
    "# Take 10 entries from the other language preprocessed RDD\n",
    "print(\"10 entries from the other language preprocessed RDD:\")\n",
    "print(new_sv.take(10))"
   ]
  },
  {
   "cell_type": "code",
   "execution_count": 39,
   "id": "5a7445f8-340b-4719-bcbe-e675bf4c12fe",
   "metadata": {},
   "outputs": [
    {
     "name": "stderr",
     "output_type": "stream",
     "text": [
      "[Stage 40:===================>                                      (1 + 2) / 3]\r"
     ]
    },
    {
     "name": "stdout",
     "output_type": "stream",
     "text": [
      "The line counts are still the same after preprocessing.\n"
     ]
    },
    {
     "name": "stderr",
     "output_type": "stream",
     "text": [
      "                                                                                \r"
     ]
    }
   ],
   "source": [
    "#Question A.2.3\n",
    "# Count the lines after preprocessing\n",
    "english_line_count_after = new_en.count()\n",
    "other_language_line_count_after = new_sv.count()\n",
    "\n",
    "# Verify the line counts are still the same\n",
    "if english_line_count_after == other_language_line_count_after:\n",
    "    print(\"The line counts are still the same after preprocessing.\")\n",
    "else:\n",
    "    print(\"The line counts have changed after preprocessing.\")"
   ]
  },
  {
   "cell_type": "code",
   "execution_count": 13,
   "id": "e81a12b8-ea8f-415d-bfc9-310f78f9d4cf",
   "metadata": {},
   "outputs": [],
   "source": [
    "#Question A.3"
   ]
  },
  {
   "cell_type": "code",
   "execution_count": 41,
   "id": "3f85acc9-45b4-4d50-abbb-3ce0eaaa2556",
   "metadata": {},
   "outputs": [
    {
     "name": "stderr",
     "output_type": "stream",
     "text": [
      "                                                                                \r"
     ]
    },
    {
     "name": "stdout",
     "output_type": "stream",
     "text": [
      "Top 10 English: \n",
      " [('the', 3498452), ('of', 1659758), ('to', 1539760), ('and', 1288402), ('in', 1085994), ('that', 797519), ('a', 773522), ('is', 758050), ('for', 534242), ('we', 522851)]\n"
     ]
    },
    {
     "name": "stderr",
     "output_type": "stream",
     "text": [
      "[Stage 44:======================================>                   (2 + 1) / 3]\r"
     ]
    },
    {
     "name": "stdout",
     "output_type": "stream",
     "text": [
      "Top 10 Swedish: \n",
      " [('att', 1706293), ('och', 1344830), ('i', 1050774), ('det', 924868), ('som', 913276), ('för', 908680), ('av', 738068), ('är', 694381), ('en', 620310), ('vi', 539797)]\n"
     ]
    },
    {
     "name": "stderr",
     "output_type": "stream",
     "text": [
      "                                                                                \r"
     ]
    }
   ],
   "source": [
    "#Question A.3.1\n",
    "all_en = spark_context.textFile(\"hdfs://192.168.2.250:9000/europarl/europarl-v7.sv-en.en\").flatMap(preprocess_text)\n",
    "all_en_and_count = all_en.map(lambda w: w.strip())\\\n",
    "    .map(lambda w: (w,1))\n",
    "en_counts = all_en_and_count.reduceByKey(add)\n",
    "print(\"Top 10 English: \\n\", en_counts.takeOrdered(10, key=lambda x: -x[1]))\n",
    "\n",
    "all_sv = spark_context.textFile(\"hdfs://192.168.2.250:9000/europarl/europarl-v7.sv-en.sv\").flatMap(preprocess_text)\n",
    "all_sv_and_count = all_sv.map(lambda w: w.strip())\\\n",
    "    .map(lambda w: (w,1))\n",
    "sv_counts = all_sv_and_count.reduceByKey(add)\n",
    "print(\"Top 10 Swedish: \\n\", sv_counts.takeOrdered(10, key=lambda x: -x[1]))"
   ]
  },
  {
   "cell_type": "code",
   "execution_count": 15,
   "id": "dd9f1e88-ce98-4dc3-ade7-ca70364f2ccf",
   "metadata": {},
   "outputs": [],
   "source": [
    "#Question A.3.2\n",
    "#Sorry, I can't Swndish."
   ]
  },
  {
   "cell_type": "code",
   "execution_count": 16,
   "id": "6f9e2665-47a1-48e1-bd41-294bc8d4632e",
   "metadata": {},
   "outputs": [],
   "source": [
    "#Question A.4"
   ]
  },
  {
   "cell_type": "code",
   "execution_count": 42,
   "id": "035277db-0ad0-47e2-b9c4-96be09666442",
   "metadata": {},
   "outputs": [
    {
     "name": "stderr",
     "output_type": "stream",
     "text": [
      "                                                                                \r"
     ]
    },
    {
     "name": "stdout",
     "output_type": "stream",
     "text": [
      "English with index: \n",
      " [(['resumption', 'of', 'the', 'session'], 0), (['i', 'declare', 'resumed', 'the', 'session', 'of', 'the', 'european', 'parliament', 'adjourned', 'on', 'friday', '17', 'december', '1999,', 'and', 'i', 'would', 'like', 'once', 'again', 'to', 'wish', 'you', 'a', 'happy', 'new', 'year', 'in', 'the', 'hope', 'that', 'you', 'enjoyed', 'a', 'pleasant', 'festive', 'period.'], 1), (['although,', 'as', 'you', 'will', 'have', 'seen,', 'the', 'dreaded', \"'millennium\", \"bug'\", 'failed', 'to', 'materialise,', 'still', 'the', 'people', 'in', 'a', 'number', 'of', 'countries', 'suffered', 'a', 'series', 'of', 'natural', 'disasters', 'that', 'truly', 'were', 'dreadful.'], 2), (['you', 'have', 'requested', 'a', 'debate', 'on', 'this', 'subject', 'in', 'the', 'course', 'of', 'the', 'next', 'few', 'days,', 'during', 'this', 'part-session.'], 3)]\n"
     ]
    },
    {
     "name": "stderr",
     "output_type": "stream",
     "text": [
      "[Stage 48:>                                                         (0 + 1) / 1]\r"
     ]
    },
    {
     "name": "stdout",
     "output_type": "stream",
     "text": [
      "Swedish with index: \n",
      " [(['återupptagande', 'av', 'sessionen'], 0), (['jag', 'förklarar', 'europaparlamentets', 'session', 'återupptagen', 'efter', 'avbrottet', 'den', '17', 'december.', 'jag', 'vill', 'på', 'nytt', 'önska', 'er', 'ett', 'gott', 'nytt', 'år', 'och', 'jag', 'hoppas', 'att', 'ni', 'haft', 'en', 'trevlig', 'semester.'], 1), (['som', 'ni', 'kunnat', 'konstatera', 'ägde', '\"den', 'stora', 'år', '2000-buggen\"', 'aldrig', 'rum.', 'däremot', 'har', 'invånarna', 'i', 'ett', 'antal', 'av', 'våra', 'medlemsländer', 'drabbats', 'av', 'naturkatastrofer', 'som', 'verkligen', 'varit', 'förskräckliga.'], 2), (['ni', 'har', 'begärt', 'en', 'debatt', 'i', 'ämnet', 'under', 'sammanträdesperiodens', 'kommande', 'dagar.'], 3)]\n"
     ]
    },
    {
     "name": "stderr",
     "output_type": "stream",
     "text": [
      "                                                                                \r"
     ]
    }
   ],
   "source": [
    "#Question A.4.1\n",
    "# Define a function to filter and pair lines by word count\n",
    "en_1 = new_en.zipWithIndex()\n",
    "sv_1 = new_sv.zipWithIndex()\n",
    "print(\"English with index: \\n\", en_1.take(4))\n",
    "print(\"Swedish with index: \\n\", sv_1.take(4))"
   ]
  },
  {
   "cell_type": "code",
   "execution_count": 43,
   "id": "36560af8-0137-400d-b7e1-49835fd0e3d6",
   "metadata": {},
   "outputs": [
    {
     "name": "stderr",
     "output_type": "stream",
     "text": [
      "                                                                                \r"
     ]
    },
    {
     "name": "stdout",
     "output_type": "stream",
     "text": [
      "English with index: \n",
      " [(0, ['resumption', 'of', 'the', 'session']), (1, ['i', 'declare', 'resumed', 'the', 'session', 'of', 'the', 'european', 'parliament', 'adjourned', 'on', 'friday', '17', 'december', '1999,', 'and', 'i', 'would', 'like', 'once', 'again', 'to', 'wish', 'you', 'a', 'happy', 'new', 'year', 'in', 'the', 'hope', 'that', 'you', 'enjoyed', 'a', 'pleasant', 'festive', 'period.']), (2, ['although,', 'as', 'you', 'will', 'have', 'seen,', 'the', 'dreaded', \"'millennium\", \"bug'\", 'failed', 'to', 'materialise,', 'still', 'the', 'people', 'in', 'a', 'number', 'of', 'countries', 'suffered', 'a', 'series', 'of', 'natural', 'disasters', 'that', 'truly', 'were', 'dreadful.'])]\n"
     ]
    },
    {
     "name": "stderr",
     "output_type": "stream",
     "text": [
      "[Stage 50:>                                                         (0 + 1) / 1]\r"
     ]
    },
    {
     "name": "stdout",
     "output_type": "stream",
     "text": [
      "Swedish with index: \n",
      " [(0, ['återupptagande', 'av', 'sessionen']), (1, ['jag', 'förklarar', 'europaparlamentets', 'session', 'återupptagen', 'efter', 'avbrottet', 'den', '17', 'december.', 'jag', 'vill', 'på', 'nytt', 'önska', 'er', 'ett', 'gott', 'nytt', 'år', 'och', 'jag', 'hoppas', 'att', 'ni', 'haft', 'en', 'trevlig', 'semester.']), (2, ['som', 'ni', 'kunnat', 'konstatera', 'ägde', '\"den', 'stora', 'år', '2000-buggen\"', 'aldrig', 'rum.', 'däremot', 'har', 'invånarna', 'i', 'ett', 'antal', 'av', 'våra', 'medlemsländer', 'drabbats', 'av', 'naturkatastrofer', 'som', 'verkligen', 'varit', 'förskräckliga.'])]\n"
     ]
    },
    {
     "name": "stderr",
     "output_type": "stream",
     "text": [
      "                                                                                \r"
     ]
    }
   ],
   "source": [
    "#Quesiton A.4.2\n",
    "en_2 = en_1.map(lambda x:(x[1], x[0]))\n",
    "sv_2 = sv_1.map(lambda x:(x[1], x[0]))\n",
    "print(\"English with index: \\n\", en_2.take(3))\n",
    "print(\"Swedish with index: \\n\", sv_2.take(3))"
   ]
  },
  {
   "cell_type": "code",
   "execution_count": 44,
   "id": "ccfda1d9-ed06-4c14-8b2f-041896d959b1",
   "metadata": {},
   "outputs": [
    {
     "name": "stderr",
     "output_type": "stream",
     "text": [
      "[Stage 52:>                                                         (0 + 1) / 1]\r"
     ]
    },
    {
     "name": "stdout",
     "output_type": "stream",
     "text": [
      "English join Swedish on index: \n",
      " [(640, (['i', 'understand', 'what', 'you', 'are', 'saying.'], ['jag', 'förstår', 'vad', 'ni', 'menar.'])), (8040, (['we', 'approve', 'of', 'your', 'position', 'on', 'this:', 'you', 'did', 'well', 'not', 'to', 'isolate', 'that', 'country', 'any', 'further.'], ['ert', 'ställningstagande', 'övertygade', 'oss:', 'ni', 'gjorde', 'rätt', 'i', 'att', 'inte', 'ytterligare', 'isolera', 'detta', 'land.'])), (10030, (['i', 'will', 'go', 'further', 'in', 'the', 'written', 'answer', 'which', 'i', 'have', 'promised', 'in', 'order', 'to', 'set', 'things', 'out', 'more', 'objectively', 'and', 'precisely.'], ['jag', 'skall', 'ändå', 'gå', 'litet', 'längre', 'i', 'mitt', 'skriftliga', 'svar', 'som', 'jag', 'lovade', 'er', 'för', 'att', 'säga', 'det', 'mer', 'objektivt', 'och', 'exakt.'])), (13865, (['however,', 'the', 'commission', 'will', 'be', 'suspending', 'its', 'position,', 'given', 'the', 'intrinsically', 'high', 'risks', 'of', 'these', 'investments', 'compared', 'to', 'the', 'more', 'traditional', 'financial', 'instruments.'], ['kommissionen', 'avvaktar', 'emellertid', 'med', 'att', 'ta', 'ställning', 'med', 'tanke', 'på', 'de', 'verkligt', 'höga', 'riskerna', 'för', 'dessa', 'investeringar', 'jämfört', 'med', 'de', 'mer', 'traditionella', 'finansiella', 'instrumenten.']))]\n"
     ]
    },
    {
     "name": "stderr",
     "output_type": "stream",
     "text": [
      "                                                                                \r"
     ]
    }
   ],
   "source": [
    "#Question A.4.3\n",
    "en_join_sv = en_2.join(sv_2)\n",
    "print(\"English join Swedish on index: \\n\", en_join_sv.take(4))"
   ]
  },
  {
   "cell_type": "code",
   "execution_count": 45,
   "id": "7bfbda09-073d-409e-99c8-ec647284a394",
   "metadata": {},
   "outputs": [
    {
     "name": "stderr",
     "output_type": "stream",
     "text": [
      "[Stage 54:>                                                         (0 + 1) / 1]\r"
     ]
    },
    {
     "name": "stdout",
     "output_type": "stream",
     "text": [
      "words don't begin with empty: \n",
      " [(345, (['our', 'group', 'emphasises', 'the', 'importance', 'of', 'the', 'principle', 'of', 'subsidiarity,', 'the', 'responsibility', 'of', 'member', 'states', 'and', 'the', 'role', 'of', 'local', 'players', 'in', 'drafting', 'and', 'implementing', 'programmes.'], ['vår', 'grupp', 'framhåller', 'subsidiaritetsprincipen,', 'medlemsstaternas', 'ansvar', 'och', 'de', 'lokala', 'aktörernas', 'roll', 'vid', 'utarbetandet', 'och', 'genomförandet', 'av', 'programmen.'])), (2260, (['if', 'this', 'solidarity', 'is', 'to', 'have', 'been', 'worthwhile,', 'it', 'is', 'up', 'to', 'europe', 'to', 'propose', 'priority', 'actions', 'for', 'safeguarding', 'the', 'timber', 'industry.'], ['det', 'är', 'europas', 'sak', 'att', 'föreslå', 'prioriterade', 'åtgärder', 'för', 'att', 'rädda', 'skogssektorn,', 'så', 'att', 'denna', 'solidaritet', 'verkligen', 'blir', 'meningsfull.'])), (5540, (['i', 'believe', 'that', 'is', 'a', 'good', 'thing'], ['jag', 'tror', 'att', 'det', 'är', 'bra.'])), (5775, (['we', 'are', 'not', 'making', 'the', 'connection', 'so', 'that', 'the', 'citizens', 'can', 'actually', 'do', 'something', 'concretely', 'either', 'at', 'home', 'or', 'in', 'their', 'offices', 'or', 'in', 'industry', 'to', 'support', 'action', 'against', 'global', 'climate', 'change.'], ['vi', 'visar', 'inte', 'på', 'sambandet', 'så', 'att', 'medborgarna', 'verkligen', 'kan', 'göra', 'något', 'konkret', 'i', 'hemmet', 'eller', 'på', 'sina', 'kontor', 'eller', 'i', 'industrin', 'för', 'att', 'stödja', 'åtgärderna', 'mot', 'globala', 'klimatförändringar.']))]\n"
     ]
    },
    {
     "name": "stderr",
     "output_type": "stream",
     "text": [
      "                                                                                \r"
     ]
    }
   ],
   "source": [
    "#Question A.4.4\n",
    "en_sv_4 = en_join_sv.filter(lambda x: x[1][0] != [''] and x[1][1] != [''])\n",
    "print(\"words don't begin with empty: \\n\", en_sv_4.take(4)) "
   ]
  },
  {
   "cell_type": "code",
   "execution_count": 46,
   "id": "f92ce6dd-6bf9-4fe5-a917-78d8cdf3ed1f",
   "metadata": {},
   "outputs": [
    {
     "name": "stderr",
     "output_type": "stream",
     "text": [
      "[Stage 56:>                                                         (0 + 1) / 1]\r"
     ]
    },
    {
     "name": "stdout",
     "output_type": "stream",
     "text": [
      "number of words less than 10: \n",
      " [(1070, (['mr', 'president,', 'commissioner,', 'competition', 'is', 'exactly', 'what', 'we', 'need.'], ['herr', 'talman,', 'herr', 'kommissionär!', 'ja,', 'vi', 'behöver', 'konkurrens!'])), (5960, (['this', 'is', 'what', 'our', 'european', \"'culture\", \"2000'\", 'programme', 'offers.'], ['det', 'är', 'vad', 'vårt', 'europeiska', 'program', '\"kultur', '2000\"', 'tillför.'])), (7040, (['is', 'there', 'anyone', 'to', 'speak', 'in', 'favour', 'of', 'this', 'proposal?'], ['finns', 'det', 'någon', 'som', 'vill', 'uttala', 'sig', 'för', 'den?'])), (11785, (['.'], ['.']))]\n"
     ]
    },
    {
     "name": "stderr",
     "output_type": "stream",
     "text": [
      "                                                                                \r"
     ]
    }
   ],
   "source": [
    "#Question A.4.5\n",
    "en_sv_5 = en_sv_4.filter(lambda x: len(x[1][0]) <= 10 and len(x[1][1]) <= 10)\n",
    "print(\"number of words less than 10: \\n\", en_sv_5.take(4))"
   ]
  },
  {
   "cell_type": "code",
   "execution_count": 47,
   "id": "22621395-a9cf-405a-9ffb-b586c71b2048",
   "metadata": {},
   "outputs": [
    {
     "name": "stderr",
     "output_type": "stream",
     "text": [
      "[Stage 58:>                                                         (0 + 1) / 1]\r"
     ]
    },
    {
     "name": "stdout",
     "output_type": "stream",
     "text": [
      "English has same words as Swedish: \n",
      " [(119970, (['i', 'shall', 'not', 'do', 'this!'], ['låt', 'inte', 'oss', 'göra', 'det!'])), (10910, (['this', 'is', 'important.'], ['det', 'är', 'viktigt.'])), (16395, (['he', 'is', 'not', 'stupid.'], ['han', 'är', 'inte', 'dum.'])), (41205, (['mr', 'president,', 'i', 'think', 'it', 'is', 'genuinely', 'important.'], ['herr', 'talman!', 'detta', 'är,', 'anser', 'jag,', 'oerhört', 'viktigt.']))]\n"
     ]
    },
    {
     "name": "stderr",
     "output_type": "stream",
     "text": [
      "                                                                                \r"
     ]
    }
   ],
   "source": [
    "#Question A.4.6\n",
    "en_sv_6 = en_sv_5.filter(lambda x: len(x[1][0]) == len(x[1][1]))\n",
    "print(\"English has same words as Swedish: \\n\", en_sv_6.take(4))"
   ]
  },
  {
   "cell_type": "code",
   "execution_count": 48,
   "id": "7f090c32-1735-4649-8198-30069fe3640b",
   "metadata": {},
   "outputs": [
    {
     "name": "stderr",
     "output_type": "stream",
     "text": [
      "[Stage 60:>                                                         (0 + 1) / 1]\r"
     ]
    },
    {
     "name": "stdout",
     "output_type": "stream",
     "text": [
      "English zip with Swedish: \n",
      " [[('that', 'detta'), ('is', 'är'), ('very', 'mycket'), ('kind', 'vänligt'), ('of', 'av'), ('you.', 'er.')], [('the', 'faktum'), ('fact', 'är'), ('is', 'att'), ('that', 'så'), ('it', 'inte'), ('does', 'är'), ('not.', 'fallet.')], [('(applause)', '(applåder)')], [('this', 'detta'), ('should', 'bör'), ('be', 'vara'), ('a', 'en'), ('commercial', 'kommersiell'), ('activity.', 'verksamhet.')]]\n"
     ]
    },
    {
     "name": "stderr",
     "output_type": "stream",
     "text": [
      "                                                                                \r"
     ]
    }
   ],
   "source": [
    "#Question A.4.7\n",
    "# A.4.7\n",
    "en_sv_7 = en_sv_6.map(lambda x: list(zip(x[1][0],x[1][1])))\n",
    "print(\"English zip with Swedish: \\n\", en_sv_7.take(4))"
   ]
  },
  {
   "cell_type": "code",
   "execution_count": 49,
   "id": "73deab8d-9105-4f5f-b727-0ac7a9c2109d",
   "metadata": {},
   "outputs": [
    {
     "name": "stderr",
     "output_type": "stream",
     "text": [
      "[Stage 62:==============================================>           (4 + 1) / 5]\r"
     ]
    },
    {
     "name": "stdout",
     "output_type": "stream",
     "text": [
      "the number of occurrences of the word-translation-pairs:  494715\n"
     ]
    },
    {
     "name": "stderr",
     "output_type": "stream",
     "text": [
      "                                                                                \r"
     ]
    }
   ],
   "source": [
    "#Question A.4.8\n",
    "word_pairs_count = en_sv_7.map(lambda wp: len(wp)).reduce(add)\n",
    "print(\"the number of occurrences of the word-translation-pairs: \", word_pairs_count)"
   ]
  },
  {
   "cell_type": "code",
   "execution_count": 50,
   "id": "d52c1810-cf5b-4e23-b072-0044eb49f39e",
   "metadata": {},
   "outputs": [
    {
     "name": "stderr",
     "output_type": "stream",
     "text": [
      "                                                                                \r"
     ]
    },
    {
     "name": "stdout",
     "output_type": "stream",
     "text": [
      "Top 10 zip: \n",
      " [(('is', 'är'), 11221), (('we', 'vi'), 6594), (('i', 'jag'), 6123), (('and', 'och'), 3926), (('this', 'detta'), 3782), (('a', 'en'), 3496), (('it', 'det'), 3416), (('not', 'inte'), 3097), (('that', 'det'), 3042), (('closed.', 'avslutad.'), 2964)]\n"
     ]
    }
   ],
   "source": [
    "#Question A.4.9\n",
    "en_sv_9 = en_sv_6.flatMap(lambda x: list(zip(x[1][0], x[1][1]))).map(lambda x:(x,1))\n",
    "freq = en_sv_9.reduceByKey(add).sortBy(lambda x:x[1], False).take(10)\n",
    "print(\"Top 10 zip: \\n\", freq)"
   ]
  },
  {
   "cell_type": "code",
   "execution_count": 51,
   "id": "88b20dad-04e4-4a9c-bbc7-0c9d13f17126",
   "metadata": {},
   "outputs": [],
   "source": [
    "spark_context.stop()"
   ]
  },
  {
   "cell_type": "code",
   "execution_count": null,
   "id": "a4ac1977-234c-45ff-9752-19115ea9428d",
   "metadata": {},
   "outputs": [],
   "source": []
  }
 ],
 "metadata": {
  "kernelspec": {
   "display_name": "Python 3 (ipykernel)",
   "language": "python",
   "name": "python3"
  },
  "language_info": {
   "codemirror_mode": {
    "name": "ipython",
    "version": 3
   },
   "file_extension": ".py",
   "mimetype": "text/x-python",
   "name": "python",
   "nbconvert_exporter": "python",
   "pygments_lexer": "ipython3",
   "version": "3.8.10"
  }
 },
 "nbformat": 4,
 "nbformat_minor": 5
}
